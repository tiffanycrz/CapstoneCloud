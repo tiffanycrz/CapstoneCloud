{
 "cells": [
  {
   "cell_type": "code",
   "execution_count": 76,
   "id": "87d5c0be-f0e1-4be9-ab2b-9c0b9cc2137d",
   "metadata": {},
   "outputs": [
    {
     "name": "stdout",
     "output_type": "stream",
     "text": [
      "Overwriting wind_temp.py\n"
     ]
    }
   ],
   "source": [
    "%%file wind_temp.py\n",
    "from mrjob.job import MRJob\n",
    "import re\n",
    "\n",
    "QUALITY_RE = re.compile(r\"[01459]\")\n",
    "\n",
    "class WindTemperatureReport(MRJob):\n",
    "            \n",
    "    def mapper(self, _, line):\n",
    "        temp = int(line[87:92])\n",
    "        wind_dir = line[60:63]\n",
    "        q = line[92:93]\n",
    "        quality = line[63:64]\n",
    "\n",
    "        if temp != +9999 and quality in ['0', '1', '4', '5', '9'] and re.match(QUALITY_RE, q):\n",
    "            yield wind_dir, (temp, 1)\n",
    "\n",
    "    def reducer(self, key, values):\n",
    "\n",
    "        min_temp = float('inf')\n",
    "        max_temp = float('-inf')\n",
    "        count = 0\n",
    "\n",
    "        for temp, freq in values:\n",
    "            count += freq\n",
    "            if temp < min_temp:\n",
    "                min_temp = temp\n",
    "            if temp > max_temp:\n",
    "                max_temp = temp\n",
    "\n",
    "        if key != '999':\n",
    "            yield int(key), {\"low\": min_temp, \"high\": max_temp, \"count\": count}\n",
    "\n",
    "if __name__ == '__main__':\n",
    "    WindTemperatureReport.run()"
   ]
  },
  {
   "cell_type": "code",
   "execution_count": 77,
   "id": "ba4f4ed3-d06d-447d-a57d-1bf09c1903ff",
   "metadata": {},
   "outputs": [
    {
     "name": "stdout",
     "output_type": "stream",
     "text": [
      "20\t{\"low\":-272,\"high\":317,\"count\":582}\n",
      "50\t{\"low\":-322,\"high\":306,\"count\":1039}\n",
      "70\t{\"low\":-333,\"high\":278,\"count\":502}\n",
      "90\t{\"low\":-267,\"high\":272,\"count\":567}\n",
      "110\t{\"low\":-239,\"high\":278,\"count\":296}\n",
      "140\t{\"low\":-328,\"high\":278,\"count\":1005}\n",
      "160\t{\"low\":-239,\"high\":289,\"count\":647}\n",
      "180\t{\"low\":-250,\"high\":294,\"count\":879}\n",
      "200\t{\"low\":-183,\"high\":300,\"count\":688}\n",
      "230\t{\"low\":-228,\"high\":283,\"count\":1488}\n",
      "250\t{\"low\":-222,\"high\":311,\"count\":604}\n",
      "270\t{\"low\":-211,\"high\":278,\"count\":931}\n",
      "290\t{\"low\":-328,\"high\":306,\"count\":379}\n",
      "320\t{\"low\":-311,\"high\":306,\"count\":1152}\n",
      "340\t{\"low\":-300,\"high\":311,\"count\":427}\n",
      "360\t{\"low\":-267,\"high\":289,\"count\":888}\n"
     ]
    },
    {
     "name": "stderr",
     "output_type": "stream",
     "text": [
      "No configs found; falling back on auto-configuration\n",
      "No configs specified for inline runner\n",
      "Creating temp directory C:\\Users\\sirmu\\AppData\\Local\\Temp\\wind_temp.sirmu.20240227.100100.353267\n",
      "Running step 1 of 1...\n",
      "job output is in C:\\Users\\sirmu\\AppData\\Local\\Temp\\wind_temp.sirmu.20240227.100100.353267\\output\n",
      "Streaming final output from C:\\Users\\sirmu\\AppData\\Local\\Temp\\wind_temp.sirmu.20240227.100100.353267\\output...\n",
      "Removing temp directory C:\\Users\\sirmu\\AppData\\Local\\Temp\\wind_temp.sirmu.20240227.100100.353267...\n"
     ]
    }
   ],
   "source": [
    "!python wind_temp.py --no-bootstrap-mrjob 1901 1902"
   ]
  },
  {
   "cell_type": "code",
   "execution_count": null,
   "id": "8460e1ad-7967-4f53-9428-0f5e18d363b6",
   "metadata": {},
   "outputs": [],
   "source": []
  }
 ],
 "metadata": {
  "kernelspec": {
   "display_name": "Python 3 (ipykernel)",
   "language": "python",
   "name": "python3"
  },
  "language_info": {
   "codemirror_mode": {
    "name": "ipython",
    "version": 3
   },
   "file_extension": ".py",
   "mimetype": "text/x-python",
   "name": "python",
   "nbconvert_exporter": "python",
   "pygments_lexer": "ipython3",
   "version": "3.10.13"
  }
 },
 "nbformat": 4,
 "nbformat_minor": 5
}
